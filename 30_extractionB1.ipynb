{
 "cells": [
  {
   "cell_type": "code",
   "execution_count": 2,
   "metadata": {},
   "outputs": [],
   "source": [
    "import pandas as pd\n",
    "from pprint import pprint\n",
    "from pdfminer.pdfparser import PDFParser\n",
    "from pdfminer.pdfdocument import PDFDocument\n",
    "from pdfminer.pdfpage import PDFPage\n",
    "from pdfminer.pdfinterp import PDFResourceManager, PDFPageInterpreter\n",
    "from pdfminer.layout import LAParams\n",
    "from pdfminer.pdfdocument import PDFDocument, PDFNoOutlines\n",
    "from pdfminer.pdfparser import PDFParser\n",
    "from pdfminer.pdfinterp import PDFResourceManager, PDFPageInterpreter\n",
    "from pdfminer.converter import PDFPageAggregator\n",
    "from pdfminer.layout import LTPage, LTChar, LTAnno, LAParams, LTTextBox, LTTextLine\n",
    "\n",
    "class PDFPageDetailedAggregator(PDFPageAggregator):\n",
    "    def __init__(self, rsrcmgr, pageno=1, laparams=None):\n",
    "        PDFPageAggregator.__init__(self, rsrcmgr, pageno=pageno, laparams=laparams)\n",
    "        self.rows = []\n",
    "        self.page_number = 0\n",
    "    def receive_layout(self, ltpage):        \n",
    "        def render(item, page_number):\n",
    "            if isinstance(item, LTPage) or isinstance(item, LTTextBox):\n",
    "                for child in item:\n",
    "                    render(child, page_number)\n",
    "            elif isinstance(item, LTTextLine):\n",
    "                child_str = ''\n",
    "                for child in item:\n",
    "                    if isinstance(child, (LTChar, LTAnno)):\n",
    "                        child_str += child.get_text()\n",
    "                child_str = ' '.join(child_str.split()).strip()\n",
    "                if child_str:\n",
    "                    row = (page_number, item.bbox[0], item.bbox[1], item.bbox[2], item.bbox[3], child_str) # bbox == (x1, y1, x2, y2)\n",
    "                    self.rows.append(row)\n",
    "                for child in item:\n",
    "                    render(child, page_number)\n",
    "            return\n",
    "        render(ltpage, self.page_number)\n",
    "        self.page_number += 1\n",
    "        self.rows = sorted(self.rows, key = lambda x: (x[0], -x[2]))\n",
    "        self.result = ltpage\n",
    "\n",
    "fp = open(\"Goethe-Zertifikat_B1_Wortliste.pdf\", 'rb')\n",
    "parser = PDFParser(fp)\n",
    "doc = PDFDocument(parser)\n",
    "#doc.initialize() # leave empty for no password\n",
    "\n",
    "rsrcmgr = PDFResourceManager()\n",
    "laparams = LAParams()\n",
    "device = PDFPageDetailedAggregator(rsrcmgr, laparams=laparams)\n",
    "interpreter = PDFPageInterpreter(rsrcmgr, device)\n",
    "\n",
    "for page in PDFPage.create_pages(doc):\n",
    "    interpreter.process_page(page)\n",
    "    # receive the LTPage object for this page\n",
    "    device.get_result()"
   ]
  },
  {
   "cell_type": "code",
   "execution_count": 3,
   "metadata": {},
   "outputs": [],
   "source": [
    "def columntranslation(x):\n",
    "    if x<129:\n",
    "        return 1\n",
    "    if x<300:\n",
    "        return 2\n",
    "    if x<410.5:\n",
    "        return 3\n",
    "    return 4\n",
    "\n",
    "def assignblock(x,limits):\n",
    "    return sum(x>=limits)\n",
    "\n",
    "def addspace(x):\n",
    "    output = x.iloc[0]\n",
    "    for i in range(1,len(x)):\n",
    "        xi = x.iloc[i]\n",
    "        if len(output)>=2:\n",
    "            if (output[-1]==\"-\") & (output[-2].isalpha()):\n",
    "                output=output[:-1]+xi\n",
    "        output+=\" \"+xi\n",
    "            \n",
    "    return output"
   ]
  },
  {
   "cell_type": "code",
   "execution_count": 4,
   "metadata": {},
   "outputs": [
    {
     "name": "stderr",
     "output_type": "stream",
     "text": [
      "C:\\Users\\GiuliaAvvisati\\anaconda3\\lib\\site-packages\\ipykernel_launcher.py:4: SettingWithCopyWarning: \n",
      "A value is trying to be set on a copy of a slice from a DataFrame.\n",
      "Try using .loc[row_indexer,col_indexer] = value instead\n",
      "\n",
      "See the caveats in the documentation: https://pandas.pydata.org/pandas-docs/stable/user_guide/indexing.html#returning-a-view-versus-a-copy\n",
      "  after removing the cwd from sys.path.\n",
      "C:\\Users\\GiuliaAvvisati\\anaconda3\\lib\\site-packages\\ipykernel_launcher.py:5: SettingWithCopyWarning: \n",
      "A value is trying to be set on a copy of a slice from a DataFrame.\n",
      "Try using .loc[row_indexer,col_indexer] = value instead\n",
      "\n",
      "See the caveats in the documentation: https://pandas.pydata.org/pandas-docs/stable/user_guide/indexing.html#returning-a-view-versus-a-copy\n",
      "  \"\"\"\n",
      "C:\\Users\\GiuliaAvvisati\\anaconda3\\lib\\site-packages\\ipykernel_launcher.py:6: SettingWithCopyWarning: \n",
      "A value is trying to be set on a copy of a slice from a DataFrame.\n",
      "Try using .loc[row_indexer,col_indexer] = value instead\n",
      "\n",
      "See the caveats in the documentation: https://pandas.pydata.org/pandas-docs/stable/user_guide/indexing.html#returning-a-view-versus-a-copy\n",
      "  \n"
     ]
    }
   ],
   "source": [
    "DF = pd.DataFrame(device.rows)\n",
    "DF.columns = [\"page\",\"xmin\",\"ymin\",\"xmax\",\"ymax\",\"text\"]\n",
    "alphw = DF[(DF[\"page\"]>14)&(DF[\"page\"]<102)&(DF[\"ymin\"]>48.44)&(DF[\"ymin\"]<807)]\n",
    "alphw[\"column\"]=alphw[\"xmin\"].apply(columntranslation)\n",
    "alphw[\"columnaux\"]=1-alphw[\"column\"].isin([1,3])\n",
    "alphw[\"yabs\"]=(850-alphw[\"ymax\"]+850*(alphw[\"column\"]>2.5)+alphw[\"page\"].apply(int)*2000-30000).apply(lambda x: int(round(x,0)))"
   ]
  },
  {
   "cell_type": "code",
   "execution_count": 5,
   "metadata": {},
   "outputs": [
    {
     "name": "stderr",
     "output_type": "stream",
     "text": [
      "C:\\Users\\GiuliaAvvisati\\anaconda3\\lib\\site-packages\\ipykernel_launcher.py:7: SettingWithCopyWarning: \n",
      "A value is trying to be set on a copy of a slice from a DataFrame.\n",
      "Try using .loc[row_indexer,col_indexer] = value instead\n",
      "\n",
      "See the caveats in the documentation: https://pandas.pydata.org/pandas-docs/stable/user_guide/indexing.html#returning-a-view-versus-a-copy\n",
      "  import sys\n"
     ]
    }
   ],
   "source": [
    "entries = alphw[alphw[\"columnaux\"]==0]\n",
    "entries = entries.sort_values([\"page\",\"yabs\"])\n",
    "entries[\"dy\"] = entries[\"yabs\"].diff()\n",
    "entries[\"groupaux\"] = (entries[\"dy\"]>13.05).cumsum()\n",
    "limits = entries.groupby(\"groupaux\").yabs.min()-4\n",
    "\n",
    "alphw[\"block\"] = alphw[\"yabs\"].apply(lambda x: assignblock(x,limits))\n",
    "alphw = alphw.sort_values([\"columnaux\",\"yabs\",\"xmin\"])#.reset_index(drop=True)\n",
    "final = alphw.groupby([\"columnaux\",\"block\"]).agg({\"text\":addspace}).reset_index(drop=False)\n",
    "\n",
    "entries  = final[final[\"columnaux\"]==0]\n",
    "examples = final[final[\"columnaux\"]==1]\n",
    "ff = pd.merge(entries, examples, on=\"block\")"
   ]
  },
  {
   "cell_type": "code",
   "execution_count": 6,
   "metadata": {},
   "outputs": [],
   "source": [
    "ff = ff[[\"text_x\",\"text_y\"]]\n",
    "ff.columns = [\"entries\",\"examples\"]"
   ]
  },
  {
   "cell_type": "code",
   "execution_count": 7,
   "metadata": {},
   "outputs": [],
   "source": [
    "aux = list(ff[\"examples\"])"
   ]
  },
  {
   "cell_type": "code",
   "execution_count": 9,
   "metadata": {},
   "outputs": [],
   "source": [
    "translation_list = []"
   ]
  },
  {
   "cell_type": "code",
   "execution_count": 11,
   "metadata": {},
   "outputs": [
    {
     "name": "stdout",
     "output_type": "stream",
     "text": [
      "prova\n",
      "prova\n"
     ]
    }
   ],
   "source": [
    "import time\n",
    "print(\"prova\")\n",
    "time.sleep(2.5)\n",
    "print(\"prova\")"
   ]
  },
  {
   "cell_type": "code",
   "execution_count": 15,
   "metadata": {},
   "outputs": [],
   "source": [
    "from google_trans_new import google_translator  \n",
    "  \n",
    "translator = google_translator()"
   ]
  },
  {
   "cell_type": "code",
   "execution_count": 16,
   "metadata": {},
   "outputs": [
    {
     "name": "stdout",
     "output_type": "stream",
     "text": [
      "0\n"
     ]
    },
    {
     "name": "stderr",
     "output_type": "stream",
     "text": [
      "C:\\Users\\GiuliaAvvisati\\anaconda3\\lib\\site-packages\\ipykernel_launcher.py:8: DeprecationWarning: The default dtype for empty Series will be 'object' instead of 'float64' in a future version. Specify a dtype explicitly to silence this warning.\n",
      "  \n"
     ]
    },
    {
     "name": "stdout",
     "output_type": "stream",
     "text": [
      "100\n",
      "200\n",
      "300\n",
      "400\n",
      "500\n",
      "600\n",
      "700\n",
      "800\n",
      "900\n",
      "1000\n",
      "1100\n",
      "1200\n",
      "1300\n",
      "1400\n",
      "1500\n",
      "1600\n",
      "1700\n",
      "1800\n",
      "1900\n",
      "2000\n",
      "2100\n",
      "2200\n",
      "2300\n",
      "2400\n",
      "2500\n",
      "2600\n",
      "2700\n",
      "2800\n"
     ]
    }
   ],
   "source": [
    "for i in range(len(aux)):\n",
    "    time.sleep(3)\n",
    "    if i%10==0:\n",
    "        time.sleep(5)\n",
    "    if i%100==0:\n",
    "        time.sleep(60)\n",
    "        print(i)\n",
    "        pd.Series(translation_list).to_pickle(\"B1translist.pkl\")\n",
    "    if i%500==0:\n",
    "        time.sleep(120)\n",
    "    translation_list.append(translator.translate(aux[i], lang_src='de', lang_tgt='en'))\n",
    "    "
   ]
  },
  {
   "cell_type": "code",
   "execution_count": 18,
   "metadata": {},
   "outputs": [
    {
     "data": {
      "text/plain": [
       "['1. The ride costs 200 euros from Hamburg. 2. From next week our business will remain closed on Saturdays. 3. My brother visits us from time to time. ',\n",
       " 'At the next intersection you have to turn left. ',\n",
       " 'On the picture you can see how to turn on the device. ',\n",
       " '1. Our holiday was a great adventure. 2. The children love adventure stories. Expensive stories. ',\n",
       " '1. Today I can not, but tomorrow. 2. It was a lot of snow, but Enzo has nevertheless driven the motorcycle. 3. We only have a small apartment, but are satisfied with it. 4. It was very nice. But now I have to go. 5. I would like to come, but unfortunately it is not possible. 6. May I invite you to a coffee? - But yes, very much. 7. But you play a lot of piano. ',\n",
       " 'Our train has dropped on time. ',\n",
       " 'It stays twenty minutes until the departure. ',\n",
       " 'Please do not throw the biowaste to normal waste. ',\n",
       " 'Please throw that in the trash can! ',\n",
       " 'Exhaust gases from industry and households pollute the air. ',\n",
       " 'I should give this packet with Mr. Müller. ',\n",
       " \"Maybe we'll stay a few days longer, that depends on the weather. \",\n",
       " 'Gregor is financially dependent on his parents. ',\n",
       " 'For the trip I lifted 500 euros from my account. ',\n",
       " 'My girlfriend picked me up from the train station. ',\n",
       " 'He wrote off the homework of me. ',\n",
       " 'My daughter has just graduated from high school. ',\n",
       " 'He has my offer to help him. ',\n",
       " 'We had climbed that you get the drinks. ',\n",
       " '1. Tomorrow we can take off the association. 2. I have decreased ten kilos. ',\n",
       " 'I would like to subscribe to this magazine. ',\n",
       " 'I have terminated the subscription. ',\n",
       " 'Unfortunately, I have to cancel our meeting because I got sick. ',\n",
       " 'A good graduation is very important. ',\n",
       " 'Please read the second section. ',\n",
       " 'Send the package back to the sender. ',\n",
       " '1. Excuse me. My daughter did not do that with intention. 2. Do you have the intention to study? ',\n",
       " '1. What you say there is absolutely wrong. 2. I have absolute confidence to you. ',\n",
       " \"Let's vote on this point. \",\n",
       " 'My girlfriend works in the department of Mrs. Kaufmann. ',\n",
       " 'The wafer helped me to carry the closet in the apartment. ',\n",
       " 'From there, the way leads down to the valley. ',\n",
       " 'I still have to wash the dishes. ',\n",
       " 'Mr. Huber is absent from 25 April. ',\n",
       " 'Please make sure that you complete when you go. ',\n",
       " 'Attention, here ends the road! ',\n",
       " 'Do you already have my new address? ',\n",
       " '1. Emilia is in a very similar situation like me. 2. Oleg looks very similar to his brother. ',\n",
       " 'I had no idea that you have a birthday today. ',\n",
       " 'The city should plan an action for families. ',\n",
       " 'I am very active and make a lot of sports. ',\n",
       " 'During the holidays, the city offers various leisure activities for children. ITÄTEN. ',\n",
       " 'Environmental protection is a current topic. ',\n",
       " 'I can not accept these conditions. ',\n",
       " 'At the fire alarm, you must not use the elevators. ',\n",
       " '1. You have to clean the wound with alcohol. 2. No, thank you! I do not drink alcohol. ',\n",
       " \"1. Are all children there? 2. Otherwise (et) what? - No thanks. That's all. 3. All the best! \",\n",
       " '1. I do not like to go for a walk alone. 2. Should I help you? - Thanks, I can do it alone. 3. It was very expensive. The food alone has already cost over 50 euros. ',\n",
       " \"1. The very best thing is when you put yourself in bed and sleep long. Then you will quickly get healthy again. 2. That's the most beautiful thing I have ever seen. \",\n",
       " 'We can meet tomorrow, but I have time only from noon. ',\n",
       " '1. We only talk about general problems. 2. It is well known that you can eat well here. 3. In general, I am very satisfied with my work. ',\n",
       " 'This is my everyday life: cleaning, washing, cooking. ',\n",
       " '1. The everyday life is sometimes boring. 2. The novel tells a whole everyday story. ',\n",
       " 'How many letters does the alphabet have in your language? ',\n",
       " \"1. When my husband came, the party was already over. 2. You can sign up both personally and on the internet. 3. My sister is older than me. 4. It's later when I thought. \",\n",
       " 'He is doing as if we had never talked about it. ',\n",
       " \"1. So, the thing is like this: ... 2. Irina has holidays. So she can help us. 3. So really, now it's enough. \",\n",
       " '1. How old are you? 2. Maria is an old girlfriend from me. ',\n",
       " '1. We are about the same age. 2nd age: 26 years ',\n",
       " 'The grandparents of our neighbors are in the Altenheim. ',\n",
       " 'The grandparents of our neighbors are in the retirement home. ',\n",
       " 'We need alternative energies. ',\n",
       " 'On this route, the train is a good alternative to the plane. ',\n",
       " 'There you can go over the street at the traffic light. ',\n",
       " 'The employment office is next to the bus station. ',\n",
       " 'At the festival we have been amused very well. ',\n",
       " \"1. In the beginning everything was very difficult. 2. Then we see each other on Tuesday. 3. I'm waiting at the station on you. 4. The best, you go for information and ask. 5. The light was all night. \",\n",
       " 'The politicians analyze the situation in the labor market. ',\n",
       " 'May I offer you something to drink? ',\n",
       " 'Is this a private telephone vendor? ',\n",
       " '1. I have read a few cheap housing offers in the newspaper. 2. The cheese is on offer today. ',\n",
       " '1. The others have already gone home. 2. Do not everyone at once! One after the other. 3. I would like another car. 4. Natasha has learned Chinese and Spanish among others. ',\n",
       " 'Tarek wants to study, but on the other hand he wants to earn money. ',\n",
       " '1. The weather has changed. 2. I have changed my opinion now. ',\n",
       " 'There is a program change. ',\n",
       " '1. Unfortunately, this is not different. 2. Oliver is different than his friends. 3. I would do it differently. ',\n",
       " 'My education is not recognized here. ',\n",
       " '1. When do you start working? 2. Here the Bahnhofstraße starts. ',\n",
       " '1. How was the movie? - I just saw the beginning. 2. In the beginning, I asked many questions at work. 3. My boss is early fifty. 4. My mother was from the beginning, that I pull to Berlin. 5. We make holidays at the beginning of July. 6. My girlfriend lives at the beginning of the street. ',\n",
       " 'At first everything went well. ',\n",
       " 'Please enter your exact address. ',\n",
       " 'We need the following information: name, address, date of birth. ',\n",
       " 'The doctor may only provide family members. ',\n",
       " 'We wish you a pleasant journey. ',\n",
       " \"1. You do not have to be afraid. The dog does not do anything. 2. I'm scared, maybe something happened. \",\n",
       " 'My mother is a little scared. She does not like to go to the street alone. ',\n",
       " 'Yesterday Julia had a red dress. ',\n",
       " 'You have to click on the picture. Then it gets bigger. ',\n",
       " '1. When does the train arrive in Hamburg? 2. At the game, it is important to run faster than the others. ',\n",
       " '1. The departure is at 0.55 clock, the arrival at 8.07 clock. 2. Immediately after the arrival I called my parents. ',\n",
       " 'We should announce our visit. ',\n",
       " '1. My music system is broken. 2. In the system of e-mail you will find my CV. ',\n",
       " 'The instructions say that the oldest starts with this game. ',\n",
       " 'For this course, you must definitely register before. ',\n",
       " '1. Where can I get the forms for the registration? 2. The registration is on the ground floor, room 55. ',\n",
       " '1. I like to accept your invitation. 2. I assume that they agree with the proposal. ',\n",
       " 'I have read all advertisements, but the apartments are too expensive. ',\n",
       " 'You must not forget the salutation in the letter. ',\n",
       " 'I call you tonight. ',\n",
       " \"I'm waiting for a call from Berlin. \"]"
      ]
     },
     "execution_count": 18,
     "metadata": {},
     "output_type": "execute_result"
    }
   ],
   "source": [
    "translation_list[:100]"
   ]
  },
  {
   "cell_type": "code",
   "execution_count": 17,
   "metadata": {},
   "outputs": [
    {
     "ename": "google_new_transError",
     "evalue": "429 (Too Many Requests) from TTS API. Probable cause: Unknown",
     "output_type": "error",
     "traceback": [
      "\u001b[1;31m---------------------------------------------------------------------------\u001b[0m",
      "\u001b[1;31mHTTPError\u001b[0m                                 Traceback (most recent call last)",
      "\u001b[1;32m~\\anaconda3\\lib\\site-packages\\google_trans_new\\google_trans_new.py\u001b[0m in \u001b[0;36mtranslate\u001b[1;34m(self, text, lang_tgt, lang_src, pronounce)\u001b[0m\n\u001b[0;32m    188\u001b[0m                         \u001b[1;32mraise\u001b[0m \u001b[0me\u001b[0m\u001b[1;33m\u001b[0m\u001b[1;33m\u001b[0m\u001b[0m\n\u001b[1;32m--> 189\u001b[1;33m             \u001b[0mr\u001b[0m\u001b[1;33m.\u001b[0m\u001b[0mraise_for_status\u001b[0m\u001b[1;33m(\u001b[0m\u001b[1;33m)\u001b[0m\u001b[1;33m\u001b[0m\u001b[1;33m\u001b[0m\u001b[0m\n\u001b[0m\u001b[0;32m    190\u001b[0m         \u001b[1;32mexcept\u001b[0m \u001b[0mrequests\u001b[0m\u001b[1;33m.\u001b[0m\u001b[0mexceptions\u001b[0m\u001b[1;33m.\u001b[0m\u001b[0mConnectTimeout\u001b[0m \u001b[1;32mas\u001b[0m \u001b[0me\u001b[0m\u001b[1;33m:\u001b[0m\u001b[1;33m\u001b[0m\u001b[1;33m\u001b[0m\u001b[0m\n",
      "\u001b[1;32m~\\anaconda3\\lib\\site-packages\\requests\\models.py\u001b[0m in \u001b[0;36mraise_for_status\u001b[1;34m(self)\u001b[0m\n\u001b[0;32m    940\u001b[0m         \u001b[1;32mif\u001b[0m \u001b[0mhttp_error_msg\u001b[0m\u001b[1;33m:\u001b[0m\u001b[1;33m\u001b[0m\u001b[1;33m\u001b[0m\u001b[0m\n\u001b[1;32m--> 941\u001b[1;33m             \u001b[1;32mraise\u001b[0m \u001b[0mHTTPError\u001b[0m\u001b[1;33m(\u001b[0m\u001b[0mhttp_error_msg\u001b[0m\u001b[1;33m,\u001b[0m \u001b[0mresponse\u001b[0m\u001b[1;33m=\u001b[0m\u001b[0mself\u001b[0m\u001b[1;33m)\u001b[0m\u001b[1;33m\u001b[0m\u001b[1;33m\u001b[0m\u001b[0m\n\u001b[0m\u001b[0;32m    942\u001b[0m \u001b[1;33m\u001b[0m\u001b[0m\n",
      "\u001b[1;31mHTTPError\u001b[0m: 429 Client Error: Too Many Requests for url: https://www.google.com/sorry/index?continue=https://translate.google.cn/_/TranslateWebserverUi/data/batchexecute&q=EgSXHPJjGLHYkIMGIhkA8aeDS2-SDcH8FmUQtjpRHW66H4m78qcTMgFy",
      "\nDuring handling of the above exception, another exception occurred:\n",
      "\u001b[1;31mgoogle_new_transError\u001b[0m                     Traceback (most recent call last)",
      "\u001b[1;32m<ipython-input-17-6c56e141a618>\u001b[0m in \u001b[0;36m<module>\u001b[1;34m\u001b[0m\n\u001b[1;32m----> 1\u001b[1;33m \u001b[0mff\u001b[0m\u001b[1;33m[\u001b[0m\u001b[1;34m\"examples_trans\"\u001b[0m\u001b[1;33m]\u001b[0m \u001b[1;33m=\u001b[0m \u001b[0mff\u001b[0m\u001b[1;33m[\u001b[0m\u001b[1;34m\"examples\"\u001b[0m\u001b[1;33m]\u001b[0m\u001b[1;33m.\u001b[0m\u001b[0mapply\u001b[0m\u001b[1;33m(\u001b[0m\u001b[1;32mlambda\u001b[0m \u001b[0mx\u001b[0m\u001b[1;33m:\u001b[0m \u001b[0mtranslator\u001b[0m\u001b[1;33m.\u001b[0m\u001b[0mtranslate\u001b[0m\u001b[1;33m(\u001b[0m\u001b[0mx\u001b[0m\u001b[1;33m,\u001b[0m \u001b[0mlang_src\u001b[0m\u001b[1;33m=\u001b[0m\u001b[1;34m'de'\u001b[0m\u001b[1;33m,\u001b[0m \u001b[0mlang_tgt\u001b[0m\u001b[1;33m=\u001b[0m\u001b[1;34m'en'\u001b[0m\u001b[1;33m)\u001b[0m\u001b[1;33m)\u001b[0m\u001b[1;33m\u001b[0m\u001b[1;33m\u001b[0m\u001b[0m\n\u001b[0m",
      "\u001b[1;32m~\\anaconda3\\lib\\site-packages\\pandas\\core\\series.py\u001b[0m in \u001b[0;36mapply\u001b[1;34m(self, func, convert_dtype, args, **kwds)\u001b[0m\n\u001b[0;32m   4198\u001b[0m             \u001b[1;32melse\u001b[0m\u001b[1;33m:\u001b[0m\u001b[1;33m\u001b[0m\u001b[1;33m\u001b[0m\u001b[0m\n\u001b[0;32m   4199\u001b[0m                 \u001b[0mvalues\u001b[0m \u001b[1;33m=\u001b[0m \u001b[0mself\u001b[0m\u001b[1;33m.\u001b[0m\u001b[0mastype\u001b[0m\u001b[1;33m(\u001b[0m\u001b[0mobject\u001b[0m\u001b[1;33m)\u001b[0m\u001b[1;33m.\u001b[0m\u001b[0m_values\u001b[0m\u001b[1;33m\u001b[0m\u001b[1;33m\u001b[0m\u001b[0m\n\u001b[1;32m-> 4200\u001b[1;33m                 \u001b[0mmapped\u001b[0m \u001b[1;33m=\u001b[0m \u001b[0mlib\u001b[0m\u001b[1;33m.\u001b[0m\u001b[0mmap_infer\u001b[0m\u001b[1;33m(\u001b[0m\u001b[0mvalues\u001b[0m\u001b[1;33m,\u001b[0m \u001b[0mf\u001b[0m\u001b[1;33m,\u001b[0m \u001b[0mconvert\u001b[0m\u001b[1;33m=\u001b[0m\u001b[0mconvert_dtype\u001b[0m\u001b[1;33m)\u001b[0m\u001b[1;33m\u001b[0m\u001b[1;33m\u001b[0m\u001b[0m\n\u001b[0m\u001b[0;32m   4201\u001b[0m \u001b[1;33m\u001b[0m\u001b[0m\n\u001b[0;32m   4202\u001b[0m         \u001b[1;32mif\u001b[0m \u001b[0mlen\u001b[0m\u001b[1;33m(\u001b[0m\u001b[0mmapped\u001b[0m\u001b[1;33m)\u001b[0m \u001b[1;32mand\u001b[0m \u001b[0misinstance\u001b[0m\u001b[1;33m(\u001b[0m\u001b[0mmapped\u001b[0m\u001b[1;33m[\u001b[0m\u001b[1;36m0\u001b[0m\u001b[1;33m]\u001b[0m\u001b[1;33m,\u001b[0m \u001b[0mSeries\u001b[0m\u001b[1;33m)\u001b[0m\u001b[1;33m:\u001b[0m\u001b[1;33m\u001b[0m\u001b[1;33m\u001b[0m\u001b[0m\n",
      "\u001b[1;32mpandas\\_libs\\lib.pyx\u001b[0m in \u001b[0;36mpandas._libs.lib.map_infer\u001b[1;34m()\u001b[0m\n",
      "\u001b[1;32m<ipython-input-17-6c56e141a618>\u001b[0m in \u001b[0;36m<lambda>\u001b[1;34m(x)\u001b[0m\n\u001b[1;32m----> 1\u001b[1;33m \u001b[0mff\u001b[0m\u001b[1;33m[\u001b[0m\u001b[1;34m\"examples_trans\"\u001b[0m\u001b[1;33m]\u001b[0m \u001b[1;33m=\u001b[0m \u001b[0mff\u001b[0m\u001b[1;33m[\u001b[0m\u001b[1;34m\"examples\"\u001b[0m\u001b[1;33m]\u001b[0m\u001b[1;33m.\u001b[0m\u001b[0mapply\u001b[0m\u001b[1;33m(\u001b[0m\u001b[1;32mlambda\u001b[0m \u001b[0mx\u001b[0m\u001b[1;33m:\u001b[0m \u001b[0mtranslator\u001b[0m\u001b[1;33m.\u001b[0m\u001b[0mtranslate\u001b[0m\u001b[1;33m(\u001b[0m\u001b[0mx\u001b[0m\u001b[1;33m,\u001b[0m \u001b[0mlang_src\u001b[0m\u001b[1;33m=\u001b[0m\u001b[1;34m'de'\u001b[0m\u001b[1;33m,\u001b[0m \u001b[0mlang_tgt\u001b[0m\u001b[1;33m=\u001b[0m\u001b[1;34m'en'\u001b[0m\u001b[1;33m)\u001b[0m\u001b[1;33m)\u001b[0m\u001b[1;33m\u001b[0m\u001b[1;33m\u001b[0m\u001b[0m\n\u001b[0m",
      "\u001b[1;32m~\\anaconda3\\lib\\site-packages\\google_trans_new\\google_trans_new.py\u001b[0m in \u001b[0;36mtranslate\u001b[1;34m(self, text, lang_tgt, lang_src, pronounce)\u001b[0m\n\u001b[0;32m    192\u001b[0m         \u001b[1;32mexcept\u001b[0m \u001b[0mrequests\u001b[0m\u001b[1;33m.\u001b[0m\u001b[0mexceptions\u001b[0m\u001b[1;33m.\u001b[0m\u001b[0mHTTPError\u001b[0m \u001b[1;32mas\u001b[0m \u001b[0me\u001b[0m\u001b[1;33m:\u001b[0m\u001b[1;33m\u001b[0m\u001b[1;33m\u001b[0m\u001b[0m\n\u001b[0;32m    193\u001b[0m             \u001b[1;31m# Request successful, bad response\u001b[0m\u001b[1;33m\u001b[0m\u001b[1;33m\u001b[0m\u001b[1;33m\u001b[0m\u001b[0m\n\u001b[1;32m--> 194\u001b[1;33m             \u001b[1;32mraise\u001b[0m \u001b[0mgoogle_new_transError\u001b[0m\u001b[1;33m(\u001b[0m\u001b[0mtts\u001b[0m\u001b[1;33m=\u001b[0m\u001b[0mself\u001b[0m\u001b[1;33m,\u001b[0m \u001b[0mresponse\u001b[0m\u001b[1;33m=\u001b[0m\u001b[0mr\u001b[0m\u001b[1;33m)\u001b[0m\u001b[1;33m\u001b[0m\u001b[1;33m\u001b[0m\u001b[0m\n\u001b[0m\u001b[0;32m    195\u001b[0m         \u001b[1;32mexcept\u001b[0m \u001b[0mrequests\u001b[0m\u001b[1;33m.\u001b[0m\u001b[0mexceptions\u001b[0m\u001b[1;33m.\u001b[0m\u001b[0mRequestException\u001b[0m \u001b[1;32mas\u001b[0m \u001b[0me\u001b[0m\u001b[1;33m:\u001b[0m\u001b[1;33m\u001b[0m\u001b[1;33m\u001b[0m\u001b[0m\n\u001b[0;32m    196\u001b[0m             \u001b[1;31m# Request failed\u001b[0m\u001b[1;33m\u001b[0m\u001b[1;33m\u001b[0m\u001b[1;33m\u001b[0m\u001b[0m\n",
      "\u001b[1;31mgoogle_new_transError\u001b[0m: 429 (Too Many Requests) from TTS API. Probable cause: Unknown"
     ]
    }
   ],
   "source": [
    "ff[\"examples_trans\"] = ff[\"examples\"].apply(lambda x: translator.translate(x, lang_src='de', lang_tgt='en'))"
   ]
  },
  {
   "cell_type": "code",
   "execution_count": 16,
   "metadata": {},
   "outputs": [
    {
     "data": {
      "text/plain": [
       "0    1. The ride costs 200 euros from Hamburg. 2. F...\n",
       "1     At the next intersection you have to turn left. \n",
       "2    On the picture you can see how to turn on the ...\n",
       "3    1. Our holiday was a great adventure. 2. The c...\n",
       "Name: examples, dtype: object"
      ]
     },
     "execution_count": 16,
     "metadata": {},
     "output_type": "execute_result"
    }
   ],
   "source": [
    "ff[\"examples\"].iloc[:4].apply(lambda x: translator.translate(x, lang_src='de', lang_tgt='en'))"
   ]
  },
  {
   "cell_type": "code",
   "execution_count": null,
   "metadata": {},
   "outputs": [],
   "source": [
    "!pip install googletrans"
   ]
  },
  {
   "cell_type": "code",
   "execution_count": null,
   "metadata": {},
   "outputs": [],
   "source": [
    "import translate"
   ]
  },
  {
   "cell_type": "code",
   "execution_count": null,
   "metadata": {},
   "outputs": [],
   "source": []
  },
  {
   "cell_type": "code",
   "execution_count": 14,
   "metadata": {},
   "outputs": [
    {
     "name": "stdout",
     "output_type": "stream",
     "text": [
      "Collecting google_trans_new\n",
      "  Downloading google_trans_new-1.1.9-py3-none-any.whl (9.2 kB)\n",
      "Installing collected packages: google-trans-new\n",
      "Successfully installed google-trans-new-1.1.9\n"
     ]
    }
   ],
   "source": [
    "!pip install google_trans_new"
   ]
  },
  {
   "cell_type": "code",
   "execution_count": 13,
   "metadata": {
    "scrolled": true
   },
   "outputs": [
    {
     "ename": "ValueError",
     "evalue": "invalid source language",
     "output_type": "error",
     "traceback": [
      "\u001b[1;31m---------------------------------------------------------------------------\u001b[0m",
      "\u001b[1;31mValueError\u001b[0m                                Traceback (most recent call last)",
      "\u001b[1;32m<ipython-input-13-3d3392154d22>\u001b[0m in \u001b[0;36m<module>\u001b[1;34m\u001b[0m\n\u001b[0;32m      1\u001b[0m \u001b[1;32mimport\u001b[0m \u001b[0mgoogletrans\u001b[0m\u001b[1;33m\u001b[0m\u001b[1;33m\u001b[0m\u001b[0m\n\u001b[0;32m      2\u001b[0m \u001b[0mtranslator\u001b[0m \u001b[1;33m=\u001b[0m \u001b[0mgoogletrans\u001b[0m\u001b[1;33m.\u001b[0m\u001b[0mTranslator\u001b[0m\u001b[1;33m(\u001b[0m\u001b[1;33m)\u001b[0m\u001b[1;33m\u001b[0m\u001b[1;33m\u001b[0m\u001b[0m\n\u001b[1;32m----> 3\u001b[1;33m \u001b[0msentence\u001b[0m \u001b[1;33m=\u001b[0m \u001b[0mtranslator\u001b[0m\u001b[1;33m.\u001b[0m\u001b[0mtranslate\u001b[0m\u001b[1;33m(\u001b[0m\u001b[1;34m\"Hallo! Mein Name ist Merkel. Wie heisst du?\"\u001b[0m\u001b[1;33m,\u001b[0m\u001b[0mdest\u001b[0m\u001b[1;33m=\u001b[0m\u001b[1;34m\"en\"\u001b[0m\u001b[1;33m,\u001b[0m\u001b[0msrc\u001b[0m\u001b[1;33m=\u001b[0m\u001b[1;34m\"ge\"\u001b[0m\u001b[1;33m)\u001b[0m\u001b[1;33m\u001b[0m\u001b[1;33m\u001b[0m\u001b[0m\n\u001b[0m\u001b[0;32m      4\u001b[0m \u001b[0msentence\u001b[0m\u001b[1;33m.\u001b[0m\u001b[0mextra_data\u001b[0m\u001b[1;33m\u001b[0m\u001b[1;33m\u001b[0m\u001b[0m\n",
      "\u001b[1;32m~\\anaconda3\\lib\\site-packages\\googletrans\\client.py\u001b[0m in \u001b[0;36mtranslate\u001b[1;34m(self, text, dest, src, **kwargs)\u001b[0m\n\u001b[0;32m    190\u001b[0m                 \u001b[0msrc\u001b[0m \u001b[1;33m=\u001b[0m \u001b[0mLANGCODES\u001b[0m\u001b[1;33m[\u001b[0m\u001b[0msrc\u001b[0m\u001b[1;33m]\u001b[0m\u001b[1;33m\u001b[0m\u001b[1;33m\u001b[0m\u001b[0m\n\u001b[0;32m    191\u001b[0m             \u001b[1;32melse\u001b[0m\u001b[1;33m:\u001b[0m\u001b[1;33m\u001b[0m\u001b[1;33m\u001b[0m\u001b[0m\n\u001b[1;32m--> 192\u001b[1;33m                 \u001b[1;32mraise\u001b[0m \u001b[0mValueError\u001b[0m\u001b[1;33m(\u001b[0m\u001b[1;34m'invalid source language'\u001b[0m\u001b[1;33m)\u001b[0m\u001b[1;33m\u001b[0m\u001b[1;33m\u001b[0m\u001b[0m\n\u001b[0m\u001b[0;32m    193\u001b[0m \u001b[1;33m\u001b[0m\u001b[0m\n\u001b[0;32m    194\u001b[0m         \u001b[1;32mif\u001b[0m \u001b[0mdest\u001b[0m \u001b[1;32mnot\u001b[0m \u001b[1;32min\u001b[0m \u001b[0mLANGUAGES\u001b[0m\u001b[1;33m:\u001b[0m\u001b[1;33m\u001b[0m\u001b[1;33m\u001b[0m\u001b[0m\n",
      "\u001b[1;31mValueError\u001b[0m: invalid source language"
     ]
    }
   ],
   "source": [
    "import googletrans\n",
    "translator = googletrans.Translator()\n",
    "sentence = translator.translate(\"Hallo! Mein Name ist Merkel. Wie heisst du?\",dest=\"en\",src=\"ge\")\n",
    "sentence.extra_data"
   ]
  },
  {
   "cell_type": "code",
   "execution_count": 11,
   "metadata": {},
   "outputs": [
    {
     "ename": "NameError",
     "evalue": "name 'translate' is not defined",
     "output_type": "error",
     "traceback": [
      "\u001b[1;31m---------------------------------------------------------------------------\u001b[0m",
      "\u001b[1;31mNameError\u001b[0m                                 Traceback (most recent call last)",
      "\u001b[1;32m<ipython-input-11-09b16a1f4dee>\u001b[0m in \u001b[0;36m<module>\u001b[1;34m\u001b[0m\n\u001b[1;32m----> 1\u001b[1;33m \u001b[0mtranslate\u001b[0m\u001b[1;33m.\u001b[0m\u001b[0mtranslator\u001b[0m\u001b[1;33m(\u001b[0m\u001b[1;34m'de'\u001b[0m\u001b[1;33m,\u001b[0m \u001b[1;34m'en'\u001b[0m\u001b[1;33m,\u001b[0m\u001b[1;34m\"Hallo! Mein Name ist Merkel. Wie heisst du?\"\u001b[0m\u001b[1;33m)\u001b[0m\u001b[1;33m\u001b[0m\u001b[1;33m\u001b[0m\u001b[0m\n\u001b[0m",
      "\u001b[1;31mNameError\u001b[0m: name 'translate' is not defined"
     ]
    }
   ],
   "source": [
    "translate.translator('de', 'en',\"Hallo! Mein Name ist Merkel. Wie heisst du?\")"
   ]
  },
  {
   "cell_type": "code",
   "execution_count": null,
   "metadata": {},
   "outputs": [],
   "source": [
    "ff"
   ]
  },
  {
   "cell_type": "code",
   "execution_count": 18,
   "metadata": {},
   "outputs": [
    {
     "name": "stdout",
     "output_type": "stream",
     "text": [
      "Collecting deep_translator\n",
      "  Downloading deep_translator-1.4.1-py2.py3-none-any.whl (27 kB)\n",
      "Requirement already satisfied: beautifulsoup4 in c:\\users\\pablo\\anaconda3\\lib\\site-packages (from deep_translator) (4.9.3)\n",
      "Requirement already satisfied: requests in c:\\users\\pablo\\anaconda3\\lib\\site-packages (from deep_translator) (2.24.0)\n",
      "Requirement already satisfied: soupsieve>1.2; python_version >= \"3.0\" in c:\\users\\pablo\\anaconda3\\lib\\site-packages (from beautifulsoup4->deep_translator) (2.0.1)\n",
      "Requirement already satisfied: chardet<4,>=3.0.2 in c:\\users\\pablo\\anaconda3\\lib\\site-packages (from requests->deep_translator) (3.0.4)\n",
      "Requirement already satisfied: certifi>=2017.4.17 in c:\\users\\pablo\\anaconda3\\lib\\site-packages (from requests->deep_translator) (2020.6.20)\n",
      "Requirement already satisfied: idna<3,>=2.5 in c:\\users\\pablo\\anaconda3\\lib\\site-packages (from requests->deep_translator) (2.10)\n",
      "Requirement already satisfied: urllib3!=1.25.0,!=1.25.1,<1.26,>=1.21.1 in c:\\users\\pablo\\anaconda3\\lib\\site-packages (from requests->deep_translator) (1.25.11)\n",
      "Installing collected packages: deep-translator\n",
      "Successfully installed deep-translator-1.4.1\n"
     ]
    }
   ],
   "source": [
    "!pip install deep_translator"
   ]
  },
  {
   "cell_type": "code",
   "execution_count": 23,
   "metadata": {},
   "outputs": [],
   "source": [
    "from deep_translator import PonsTranslator\n",
    "word = 'my boss is hebrew but he is not kind'\n",
    "translated_word = PonsTranslator(source='english', target='french').translate(word, return_all=False)"
   ]
  },
  {
   "cell_type": "code",
   "execution_count": 24,
   "metadata": {},
   "outputs": [
    {
     "data": {
      "text/plain": [
       "'être '"
      ]
     },
     "execution_count": 24,
     "metadata": {},
     "output_type": "execute_result"
    }
   ],
   "source": [
    "translated_word"
   ]
  },
  {
   "cell_type": "code",
   "execution_count": null,
   "metadata": {},
   "outputs": [],
   "source": []
  }
 ],
 "metadata": {
  "kernelspec": {
   "display_name": "Python 3",
   "language": "python",
   "name": "python3"
  },
  "language_info": {
   "codemirror_mode": {
    "name": "ipython",
    "version": 3
   },
   "file_extension": ".py",
   "mimetype": "text/x-python",
   "name": "python",
   "nbconvert_exporter": "python",
   "pygments_lexer": "ipython3",
   "version": "3.8.5"
  }
 },
 "nbformat": 4,
 "nbformat_minor": 4
}
