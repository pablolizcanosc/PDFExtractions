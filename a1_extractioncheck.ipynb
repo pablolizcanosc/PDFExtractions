{
 "cells": [
  {
   "cell_type": "code",
   "execution_count": 1,
   "metadata": {},
   "outputs": [],
   "source": [
    "import pandas as pd\n",
    "from pprint import pprint\n",
    "from pdfminer.pdfparser import PDFParser\n",
    "from pdfminer.pdfdocument import PDFDocument\n",
    "from pdfminer.pdfpage import PDFPage\n",
    "from pdfminer.pdfinterp import PDFResourceManager, PDFPageInterpreter\n",
    "from pdfminer.layout import LAParams\n",
    "from pdfminer.pdfdocument import PDFDocument, PDFNoOutlines\n",
    "from pdfminer.pdfparser import PDFParser\n",
    "from pdfminer.pdfinterp import PDFResourceManager, PDFPageInterpreter\n",
    "from pdfminer.converter import PDFPageAggregator\n",
    "from pdfminer.layout import LTPage, LTChar, LTAnno, LAParams, LTTextBox, LTTextLine\n",
    "\n",
    "class PDFPageDetailedAggregator(PDFPageAggregator):\n",
    "    def __init__(self, rsrcmgr, pageno=1, laparams=None):\n",
    "        PDFPageAggregator.__init__(self, rsrcmgr, pageno=pageno, laparams=laparams)\n",
    "        self.rows = []\n",
    "        self.page_number = 0\n",
    "    def receive_layout(self, ltpage):        \n",
    "        def render(item, page_number):\n",
    "            if isinstance(item, LTPage) or isinstance(item, LTTextBox):\n",
    "                for child in item:\n",
    "                    render(child, page_number)\n",
    "            elif isinstance(item, LTTextLine):\n",
    "                child_str = ''\n",
    "                for child in item:\n",
    "                    if isinstance(child, (LTChar, LTAnno)):\n",
    "                        child_str += child.get_text()\n",
    "                child_str = ' '.join(child_str.split()).strip()\n",
    "                if child_str:\n",
    "                    row = (page_number, item.bbox[0], item.bbox[1], item.bbox[2], item.bbox[3], child_str) # bbox == (x1, y1, x2, y2)\n",
    "                    self.rows.append(row)\n",
    "                for child in item:\n",
    "                    render(child, page_number)\n",
    "            return\n",
    "        render(ltpage, self.page_number)\n",
    "        self.page_number += 1\n",
    "        self.rows = sorted(self.rows, key = lambda x: (x[0], -x[2]))\n",
    "        self.result = ltpage\n",
    "\n",
    "fp = open(\"A1_SD1_Wortliste_02.pdf\", 'rb')\n",
    "parser = PDFParser(fp)\n",
    "doc = PDFDocument(parser)\n",
    "#doc.initialize() # leave empty for no password\n",
    "\n",
    "rsrcmgr = PDFResourceManager()\n",
    "laparams = LAParams()\n",
    "device = PDFPageDetailedAggregator(rsrcmgr, laparams=laparams)\n",
    "interpreter = PDFPageInterpreter(rsrcmgr, device)\n",
    "\n",
    "for page in PDFPage.create_pages(doc):\n",
    "    interpreter.process_page(page)\n",
    "    # receive the LTPage object for this page\n",
    "    device.get_result()"
   ]
  },
  {
   "cell_type": "code",
   "execution_count": 2,
   "metadata": {},
   "outputs": [],
   "source": [
    "DF = pd.DataFrame(device.rows)\n",
    "DF.columns = [\"page\",\"xmin\",\"ymin\",\"xmax\",\"ymax\",\"text\"]\n",
    "alphw = DF[(DF[\"page\"]>7)&(DF[\"page\"]<27)&(DF[\"ymin\"]<760)&(DF[\"ymin\"]>40)&(DF[\"xmin\"]>135)]"
   ]
  },
  {
   "cell_type": "code",
   "execution_count": 46,
   "metadata": {},
   "outputs": [],
   "source": [
    "import re\n",
    "otheralp = (DF[DF[\"page\"].isin([3,5,6,7])&(DF[\"ymin\"]<760)&(DF[\"ymin\"]>40)&(DF[\"xmax\"]>135)][\"text\"]+\" \")#.sum().replace(\"•\",\" \").replace(\"/\",\" \").replace(\".\",\"\")\n",
    "otheralp = otheralp.apply(lambda x: re.sub(\"\\d+\", \" \", x))\n",
    "otheralp = otheralp.apply(lambda x: ''.join(' ' if ch in [\"•\",\"/\",\".\", \"=\"] else ch for ch in x))"
   ]
  },
  {
   "cell_type": "code",
   "execution_count": 48,
   "metadata": {},
   "outputs": [],
   "source": [
    "otheralp.to_pickle(\"basicvocabularyA1.pkl\")"
   ]
  },
  {
   "cell_type": "code",
   "execution_count": null,
   "metadata": {},
   "outputs": [],
   "source": []
  },
  {
   "cell_type": "code",
   "execution_count": null,
   "metadata": {},
   "outputs": [],
   "source": []
  },
  {
   "cell_type": "code",
   "execution_count": null,
   "metadata": {},
   "outputs": [],
   "source": []
  },
  {
   "cell_type": "code",
   "execution_count": null,
   "metadata": {},
   "outputs": [],
   "source": []
  },
  {
   "cell_type": "code",
   "execution_count": 3,
   "metadata": {},
   "outputs": [],
   "source": [
    "pd.options.display.max_rows = 3000"
   ]
  },
  {
   "cell_type": "code",
   "execution_count": 4,
   "metadata": {},
   "outputs": [],
   "source": [
    "def assignblock(x,limits):\n",
    "    return sum(x>=limits)\n",
    "\n",
    "def addspace(x):\n",
    "    output = x.iloc[0]\n",
    "    for i in range(1,len(x)):\n",
    "        xi = x.iloc[i]\n",
    "        if len(output)>=2:\n",
    "            if (output[-1]==\"-\") & (output[-2].isalpha()):\n",
    "                output=output[:-1]+xi\n",
    "        output+=\" \"+xi\n",
    "            \n",
    "    return output"
   ]
  },
  {
   "cell_type": "code",
   "execution_count": 5,
   "metadata": {},
   "outputs": [
    {
     "name": "stderr",
     "output_type": "stream",
     "text": [
      "<ipython-input-5-eaf8a3fe7228>:1: SettingWithCopyWarning: \n",
      "A value is trying to be set on a copy of a slice from a DataFrame.\n",
      "Try using .loc[row_indexer,col_indexer] = value instead\n",
      "\n",
      "See the caveats in the documentation: https://pandas.pydata.org/pandas-docs/stable/user_guide/indexing.html#returning-a-view-versus-a-copy\n",
      "  alphw[\"columnaux\"] = (alphw[\"xmin\"]>230)\n",
      "<ipython-input-5-eaf8a3fe7228>:2: SettingWithCopyWarning: \n",
      "A value is trying to be set on a copy of a slice from a DataFrame.\n",
      "Try using .loc[row_indexer,col_indexer] = value instead\n",
      "\n",
      "See the caveats in the documentation: https://pandas.pydata.org/pandas-docs/stable/user_guide/indexing.html#returning-a-view-versus-a-copy\n",
      "  alphw[\"yabs\"]=(850-alphw[\"ymax\"]+alphw[\"page\"].apply(int)*2000-15000).apply(lambda x: int(round(x,0)))\n",
      "<ipython-input-5-eaf8a3fe7228>:8: SettingWithCopyWarning: \n",
      "A value is trying to be set on a copy of a slice from a DataFrame.\n",
      "Try using .loc[row_indexer,col_indexer] = value instead\n",
      "\n",
      "See the caveats in the documentation: https://pandas.pydata.org/pandas-docs/stable/user_guide/indexing.html#returning-a-view-versus-a-copy\n",
      "  alphw[\"block\"] = alphw[\"yabs\"].apply(lambda x: assignblock(x,limits))\n"
     ]
    }
   ],
   "source": [
    "alphw[\"columnaux\"] = (alphw[\"xmin\"]>230)\n",
    "alphw[\"yabs\"]=(850-alphw[\"ymax\"]+alphw[\"page\"].apply(int)*2000-15000).apply(lambda x: int(round(x,0)))\n",
    "entries = alphw[alphw[\"columnaux\"]==0]\n",
    "entries = entries.sort_values([\"page\",\"yabs\"])\n",
    "entries[\"dy\"] = entries[\"yabs\"].diff()\n",
    "entries[\"groupaux\"] = (entries[\"dy\"]>5).cumsum()\n",
    "limits = entries.groupby(\"groupaux\").yabs.min()-4\n",
    "alphw[\"block\"] = alphw[\"yabs\"].apply(lambda x: assignblock(x,limits))\n",
    "alphw = alphw.sort_values([\"columnaux\",\"yabs\",\"xmin\"])#.reset_index(drop=True)\n",
    "final = alphw.groupby([\"columnaux\",\"block\"]).agg({\"text\":addspace}).reset_index(drop=False)\n",
    "entries  = final[final[\"columnaux\"]==0]\n",
    "examples = final[final[\"columnaux\"]==1]\n",
    "ff = pd.merge(entries, examples, on=\"block\",how=\"left\")"
   ]
  },
  {
   "cell_type": "code",
   "execution_count": 6,
   "metadata": {},
   "outputs": [],
   "source": [
    "ff.loc[46,\"text_x\"] = 'der Arbeitsplatz, -ä, e'\n",
    "ff.loc[46, \"text_y\"] = 'An meinem Arbeitsplatz fehlt ein Drucker.'\n",
    "ff.loc[100,\"text_x\"] ='der/die Bekannte, -n'\n",
    "ff.loc[100,\"text_y\"] = 'Ein Bekannter von mir heißt Klaus.'\n",
    "ff.loc[206,\"text_x\"] = 'der Erwachsene, -n'\n",
    "ff.loc[206,\"text_y\"] = 'Dieser Film ist nur für Erwachsene.'\n",
    "ff.loc[219,\"text_x\"] = 'der Familienname'\n",
    "ff.loc[219,\"text_y\"] = 'Meine Familiennamen sind García González.'\n",
    "ff.loc[298,\"text_x\"] = \"die Großeltern (pl.)\"\n",
    "ff.loc[298,\"text_y\"] = \" Meine Großeltern leben in Japan.\"\n",
    "ff.loc[320,\"text_x\"] = 'die Hausfrau, -en / der Hausmann'\n",
    "ff.loc[355,\"text_x\"] = 'der Jugendliche, -n' \n",
    "ff.loc[355,'text_y'] = 'Viele Jugendliche kaufen gern ein.'\n",
    "ff.loc[408,\"text_x\"] = 'die Lebensmittel (pl.)'\n",
    "ff.loc[493,\"text_x\"] = 'der Partner, -/die Partnerin, -nen'\n",
    "ff.loc[500,\"text_x\"] = 'die Pommes frites (pl.)'\n",
    "ff.loc[500,\"text_y\"] = 'Die Kinder essen Hähnchen mit Pommes frites.'"
   ]
  },
  {
   "cell_type": "code",
   "execution_count": 7,
   "metadata": {},
   "outputs": [],
   "source": [
    "ff.loc[181,\"text_x\"] = 'die Ehefrau, -en / der Ehemann, ä, er'"
   ]
  },
  {
   "cell_type": "code",
   "execution_count": 10,
   "metadata": {},
   "outputs": [],
   "source": [
    "dictionary = ff.dropna()[[\"text_x\",\"text_y\"]]"
   ]
  },
  {
   "cell_type": "code",
   "execution_count": 11,
   "metadata": {},
   "outputs": [],
   "source": [
    "dictionary.to_pickle(\"vocabularyA1.pkl\")"
   ]
  },
  {
   "cell_type": "code",
   "execution_count": null,
   "metadata": {},
   "outputs": [],
   "source": []
  }
 ],
 "metadata": {
  "kernelspec": {
   "display_name": "Python 3",
   "language": "python",
   "name": "python3"
  },
  "language_info": {
   "codemirror_mode": {
    "name": "ipython",
    "version": 3
   },
   "file_extension": ".py",
   "mimetype": "text/x-python",
   "name": "python",
   "nbconvert_exporter": "python",
   "pygments_lexer": "ipython3",
   "version": "3.8.5"
  }
 },
 "nbformat": 4,
 "nbformat_minor": 4
}
