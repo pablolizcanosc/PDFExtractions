{
 "cells": [
  {
   "cell_type": "code",
   "execution_count": 1,
   "metadata": {},
   "outputs": [],
   "source": [
    "import pandas as pd\n",
    "from pprint import pprint\n",
    "from pdfminer.pdfparser import PDFParser\n",
    "from pdfminer.pdfdocument import PDFDocument\n",
    "from pdfminer.pdfpage import PDFPage\n",
    "from pdfminer.pdfinterp import PDFResourceManager, PDFPageInterpreter\n",
    "from pdfminer.layout import LAParams\n",
    "from pdfminer.pdfdocument import PDFDocument, PDFNoOutlines\n",
    "from pdfminer.pdfparser import PDFParser\n",
    "from pdfminer.pdfinterp import PDFResourceManager, PDFPageInterpreter\n",
    "from pdfminer.converter import PDFPageAggregator\n",
    "from pdfminer.layout import LTPage, LTChar, LTAnno, LAParams, LTTextBox, LTTextLine\n",
    "\n",
    "class PDFPageDetailedAggregator(PDFPageAggregator):\n",
    "    def __init__(self, rsrcmgr, pageno=1, laparams=None):\n",
    "        PDFPageAggregator.__init__(self, rsrcmgr, pageno=pageno, laparams=laparams)\n",
    "        self.rows = []\n",
    "        self.page_number = 0\n",
    "    def receive_layout(self, ltpage):        \n",
    "        def render(item, page_number):\n",
    "            if isinstance(item, LTPage) or isinstance(item, LTTextBox):\n",
    "                for child in item:\n",
    "                    render(child, page_number)\n",
    "            elif isinstance(item, LTTextLine):\n",
    "                child_str = ''\n",
    "                for child in item:\n",
    "                    if isinstance(child, (LTChar, LTAnno)):\n",
    "                        child_str += child.get_text()\n",
    "                child_str = ' '.join(child_str.split()).strip()\n",
    "                if child_str:\n",
    "                    row = (page_number, item.bbox[0], item.bbox[1], item.bbox[2], item.bbox[3], child_str) # bbox == (x1, y1, x2, y2)\n",
    "                    self.rows.append(row)\n",
    "                for child in item:\n",
    "                    render(child, page_number)\n",
    "            return\n",
    "        render(ltpage, self.page_number)\n",
    "        self.page_number += 1\n",
    "        self.rows = sorted(self.rows, key = lambda x: (x[0], -x[2]))\n",
    "        self.result = ltpage\n",
    "\n",
    "fp = open(\"Goethe-Zertifikat_B1_Wortliste.pdf\", 'rb')\n",
    "parser = PDFParser(fp)\n",
    "doc = PDFDocument(parser)\n",
    "#doc.initialize() # leave empty for no password\n",
    "\n",
    "rsrcmgr = PDFResourceManager()\n",
    "laparams = LAParams()\n",
    "device = PDFPageDetailedAggregator(rsrcmgr, laparams=laparams)\n",
    "interpreter = PDFPageInterpreter(rsrcmgr, device)\n",
    "\n",
    "for page in PDFPage.create_pages(doc):\n",
    "    interpreter.process_page(page)\n",
    "    # receive the LTPage object for this page\n",
    "    device.get_result()"
   ]
  },
  {
   "cell_type": "code",
   "execution_count": 2,
   "metadata": {},
   "outputs": [],
   "source": [
    "def columntranslation(x):\n",
    "    if x<129:\n",
    "        return 1\n",
    "    if x<300:\n",
    "        return 2\n",
    "    if x<410.5:\n",
    "        return 3\n",
    "    return 4\n",
    "\n",
    "def assignblock(x,limits):\n",
    "    return sum(x>=limits)\n",
    "\n",
    "def addspace(x):\n",
    "    output = x.iloc[0]\n",
    "    for i in range(1,len(x)):\n",
    "        xi = x.iloc[i]\n",
    "        if len(output)>=2:\n",
    "            if (output[-1]==\"-\") & (output[-2].isalpha()):\n",
    "                output=output[:-1]+xi\n",
    "        output+=\" \"+xi\n",
    "            \n",
    "    return output"
   ]
  },
  {
   "cell_type": "code",
   "execution_count": 3,
   "metadata": {},
   "outputs": [
    {
     "name": "stderr",
     "output_type": "stream",
     "text": [
      "<ipython-input-3-7631136c7781>:4: SettingWithCopyWarning: \n",
      "A value is trying to be set on a copy of a slice from a DataFrame.\n",
      "Try using .loc[row_indexer,col_indexer] = value instead\n",
      "\n",
      "See the caveats in the documentation: https://pandas.pydata.org/pandas-docs/stable/user_guide/indexing.html#returning-a-view-versus-a-copy\n",
      "  alphw[\"column\"]=alphw[\"xmin\"].apply(columntranslation)\n",
      "<ipython-input-3-7631136c7781>:5: SettingWithCopyWarning: \n",
      "A value is trying to be set on a copy of a slice from a DataFrame.\n",
      "Try using .loc[row_indexer,col_indexer] = value instead\n",
      "\n",
      "See the caveats in the documentation: https://pandas.pydata.org/pandas-docs/stable/user_guide/indexing.html#returning-a-view-versus-a-copy\n",
      "  alphw[\"columnaux\"]=1-alphw[\"column\"].isin([1,3])\n",
      "<ipython-input-3-7631136c7781>:6: SettingWithCopyWarning: \n",
      "A value is trying to be set on a copy of a slice from a DataFrame.\n",
      "Try using .loc[row_indexer,col_indexer] = value instead\n",
      "\n",
      "See the caveats in the documentation: https://pandas.pydata.org/pandas-docs/stable/user_guide/indexing.html#returning-a-view-versus-a-copy\n",
      "  alphw[\"yabs\"]=(850-alphw[\"ymax\"]+850*(alphw[\"column\"]>2.5)+alphw[\"page\"].apply(int)*2000-30000).apply(lambda x: int(round(x,0)))\n"
     ]
    }
   ],
   "source": [
    "DF = pd.DataFrame(device.rows)\n",
    "DF.columns = [\"page\",\"xmin\",\"ymin\",\"xmax\",\"ymax\",\"text\"]\n",
    "alphw = DF[(DF[\"page\"]>14)&(DF[\"page\"]<102)&(DF[\"ymin\"]>48.44)&(DF[\"ymin\"]<807)]\n",
    "alphw[\"column\"]=alphw[\"xmin\"].apply(columntranslation)\n",
    "alphw[\"columnaux\"]=1-alphw[\"column\"].isin([1,3])\n",
    "alphw[\"yabs\"]=(850-alphw[\"ymax\"]+850*(alphw[\"column\"]>2.5)+alphw[\"page\"].apply(int)*2000-30000).apply(lambda x: int(round(x,0)))"
   ]
  },
  {
   "cell_type": "code",
   "execution_count": 4,
   "metadata": {},
   "outputs": [
    {
     "name": "stderr",
     "output_type": "stream",
     "text": [
      "<ipython-input-4-f07c12b0ca46>:7: SettingWithCopyWarning: \n",
      "A value is trying to be set on a copy of a slice from a DataFrame.\n",
      "Try using .loc[row_indexer,col_indexer] = value instead\n",
      "\n",
      "See the caveats in the documentation: https://pandas.pydata.org/pandas-docs/stable/user_guide/indexing.html#returning-a-view-versus-a-copy\n",
      "  alphw[\"block\"] = alphw[\"yabs\"].apply(lambda x: assignblock(x,limits))\n"
     ]
    }
   ],
   "source": [
    "entries = alphw[alphw[\"columnaux\"]==0]\n",
    "entries = entries.sort_values([\"page\",\"yabs\"])\n",
    "entries[\"dy\"] = entries[\"yabs\"].diff()\n",
    "entries[\"groupaux\"] = (entries[\"dy\"]>13.05).cumsum()\n",
    "limits = entries.groupby(\"groupaux\").yabs.min()-4\n",
    "\n",
    "alphw[\"block\"] = alphw[\"yabs\"].apply(lambda x: assignblock(x,limits))\n",
    "alphw = alphw.sort_values([\"columnaux\",\"yabs\",\"xmin\"])#.reset_index(drop=True)\n",
    "final = alphw.groupby([\"columnaux\",\"block\"]).agg({\"text\":addspace}).reset_index(drop=False)\n",
    "\n",
    "entries  = final[final[\"columnaux\"]==0]\n",
    "examples = final[final[\"columnaux\"]==1]\n",
    "ff = pd.merge(entries, examples, on=\"block\")"
   ]
  },
  {
   "cell_type": "code",
   "execution_count": 5,
   "metadata": {},
   "outputs": [],
   "source": [
    "ff = ff[[\"text_x\",\"text_y\"]]\n",
    "ff.columns = [\"entries\",\"examples\"]"
   ]
  },
  {
   "cell_type": "code",
   "execution_count": 6,
   "metadata": {},
   "outputs": [],
   "source": [
    "b1list = pd.read_pickle(\"B1translist.pkl\")\n",
    "\n",
    "from google_trans_new import google_translator  \n",
    "import time\n",
    "translator = google_translator()\n",
    "\n",
    "rest_translations = []\n",
    "for i in ff.loc[2800:,\"examples\"]:\n",
    "    time.sleep(3)\n",
    "    rest_translations.append(translator.translate(i, lang_src='de', lang_tgt='en'))\n",
    "\n",
    "b1list=pd.concat([b1list,pd.Series(rest_translations)]).reset_index(drop=True)"
   ]
  },
  {
   "cell_type": "code",
   "execution_count": 7,
   "metadata": {},
   "outputs": [
    {
     "data": {
      "text/plain": [
       "2869"
      ]
     },
     "execution_count": 7,
     "metadata": {},
     "output_type": "execute_result"
    }
   ],
   "source": [
    "len(b1list)"
   ]
  },
  {
   "cell_type": "code",
   "execution_count": 8,
   "metadata": {},
   "outputs": [],
   "source": [
    "b1list.to_pickle(\"B1translistcomplete.pkl\")"
   ]
  },
  {
   "cell_type": "code",
   "execution_count": null,
   "metadata": {},
   "outputs": [],
   "source": [
    "from google_trans_new import google_translator  \n",
    "  \n",
    "translator = google_translator()  \n",
    "translate_text = translator.translate('Hola mundo!', lang_src='es', lang_tgt='en')  \n",
    "print(translate_text)"
   ]
  },
  {
   "cell_type": "code",
   "execution_count": null,
   "metadata": {},
   "outputs": [],
   "source": [
    "import spacy\n",
    "nlp = spacy.load(\"de_core_news_lg\")\n",
    "def extractmainword(x):\n",
    "    candidates = []\n",
    "    for i in nlp(x):\n",
    "        candidates.append(i.lemma_)\n",
    "    sortedwords = sorted(candidates, key=len)\n",
    "    return sortedwords[-1]\n",
    "        "
   ]
  },
  {
   "cell_type": "code",
   "execution_count": null,
   "metadata": {},
   "outputs": [],
   "source": []
  },
  {
   "cell_type": "code",
   "execution_count": null,
   "metadata": {},
   "outputs": [],
   "source": [
    "ff[\"joiner\"]=ff[\"entries\"].apply(extractmainword)"
   ]
  },
  {
   "cell_type": "code",
   "execution_count": null,
   "metadata": {},
   "outputs": [],
   "source": [
    "pd.options.display.max_rows = 400"
   ]
  },
  {
   "cell_type": "code",
   "execution_count": null,
   "metadata": {},
   "outputs": [],
   "source": [
    "len(b1list)"
   ]
  },
  {
   "cell_type": "code",
   "execution_count": null,
   "metadata": {
    "scrolled": true
   },
   "outputs": [],
   "source": [
    "ff"
   ]
  },
  {
   "cell_type": "code",
   "execution_count": null,
   "metadata": {},
   "outputs": [],
   "source": [
    "from google_trans_new import google_translator  \n",
    "import time\n",
    "translator = google_translator()\n",
    "\n",
    "rest_translations = []\n",
    "for i in ff.loc[2800:,\"examples\"]:\n",
    "    time.sleep(3)\n",
    "    rest_translations.append(translator.translate(i, lang_src='de', lang_tgt='en'))"
   ]
  },
  {
   "cell_type": "code",
   "execution_count": null,
   "metadata": {},
   "outputs": [],
   "source": []
  },
  {
   "cell_type": "code",
   "execution_count": null,
   "metadata": {},
   "outputs": [],
   "source": [
    "ff[\"translation\"] = pd.concat([b1list,pd.Series(rest_translations)]).reset_index(drop=True)"
   ]
  },
  {
   "cell_type": "code",
   "execution_count": null,
   "metadata": {},
   "outputs": [],
   "source": [
    "ff"
   ]
  },
  {
   "cell_type": "code",
   "execution_count": null,
   "metadata": {},
   "outputs": [],
   "source": []
  },
  {
   "cell_type": "code",
   "execution_count": null,
   "metadata": {},
   "outputs": [],
   "source": []
  },
  {
   "cell_type": "code",
   "execution_count": null,
   "metadata": {},
   "outputs": [],
   "source": [
    "ff[\"examples_trans\"] = ff[\"examples\"].apply(lambda x: translator.translate(x, lang_src='de', lang_tgt='en'))"
   ]
  },
  {
   "cell_type": "code",
   "execution_count": null,
   "metadata": {},
   "outputs": [],
   "source": [
    "ff[\"examples\"].iloc[:4].apply(lambda x: translator.translate(x, lang_src='de', lang_tgt='en'))"
   ]
  },
  {
   "cell_type": "code",
   "execution_count": null,
   "metadata": {},
   "outputs": [],
   "source": [
    "!pip install googletrans"
   ]
  },
  {
   "cell_type": "code",
   "execution_count": null,
   "metadata": {},
   "outputs": [],
   "source": [
    "import translate"
   ]
  },
  {
   "cell_type": "code",
   "execution_count": null,
   "metadata": {},
   "outputs": [],
   "source": []
  },
  {
   "cell_type": "code",
   "execution_count": null,
   "metadata": {},
   "outputs": [],
   "source": [
    "!pip install google_trans_new"
   ]
  },
  {
   "cell_type": "code",
   "execution_count": null,
   "metadata": {
    "scrolled": true
   },
   "outputs": [],
   "source": [
    "import googletrans\n",
    "translator = googletrans.Translator()\n",
    "sentence = translator.translate(\"Hallo! Mein Name ist Merkel. Wie heisst du?\",dest=\"en\",src=\"ge\")\n",
    "sentence.extra_data"
   ]
  },
  {
   "cell_type": "code",
   "execution_count": null,
   "metadata": {},
   "outputs": [],
   "source": [
    "translate.translator('de', 'en',\"Hallo! Mein Name ist Merkel. Wie heisst du?\")"
   ]
  },
  {
   "cell_type": "code",
   "execution_count": null,
   "metadata": {},
   "outputs": [],
   "source": [
    "ff"
   ]
  },
  {
   "cell_type": "code",
   "execution_count": null,
   "metadata": {},
   "outputs": [],
   "source": [
    "!pip install deep_translator"
   ]
  },
  {
   "cell_type": "code",
   "execution_count": null,
   "metadata": {},
   "outputs": [],
   "source": [
    "from deep_translator import PonsTranslator\n",
    "word = 'my boss is hebrew but he is not kind'\n",
    "translated_word = PonsTranslator(source='english', target='french').translate(word, return_all=False)"
   ]
  },
  {
   "cell_type": "code",
   "execution_count": null,
   "metadata": {},
   "outputs": [],
   "source": [
    "translated_word"
   ]
  },
  {
   "cell_type": "code",
   "execution_count": null,
   "metadata": {},
   "outputs": [],
   "source": []
  }
 ],
 "metadata": {
  "kernelspec": {
   "display_name": "Python 3",
   "language": "python",
   "name": "python3"
  },
  "language_info": {
   "codemirror_mode": {
    "name": "ipython",
    "version": 3
   },
   "file_extension": ".py",
   "mimetype": "text/x-python",
   "name": "python",
   "nbconvert_exporter": "python",
   "pygments_lexer": "ipython3",
   "version": "3.8.5"
  }
 },
 "nbformat": 4,
 "nbformat_minor": 4
}
